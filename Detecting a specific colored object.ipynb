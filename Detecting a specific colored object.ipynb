{
 "cells": [
  {
   "cell_type": "markdown",
   "metadata": {},
   "source": [
    "# Detecting a specific colored object"
   ]
  },
  {
   "cell_type": "markdown",
   "metadata": {},
   "source": [
    "Using these few codes we can see only those objects whose color we define. Meaning, if we want to see objects having red color or only blue color we can do that using these few line of codes."
   ]
  },
  {
   "cell_type": "code",
   "execution_count": null,
   "metadata": {},
   "outputs": [],
   "source": [
    "#seeing only one particular color\n",
    "#to capture the video\n",
    "cam=cv2.VideoCapture(0)\n",
    "a=int(input('Enter the color you want to see: Red(1),Blue(2),Green(3)'))\n",
    "#to check if camera opens or not\n",
    "if cam.isOpened():\n",
    "    print('Camera is working')\n",
    "    while(True):\n",
    "        status, frame= cam.read()\n",
    "        #For Red\n",
    "        if a==1:\n",
    "            x=cv2.inRange(frame,(0,0,40),(20,20,255))\n",
    "        #For Blue\n",
    "        if a==2:\n",
    "            x=cv2.inRange(frame,(50,0,0),(255,20,20))\n",
    "        #For Green    \n",
    "        if a==3:\n",
    "            x=cv2.inRange(frame,(0,50,0),(20,255,20))\n",
    "            \n",
    "        #this display the image    \n",
    "        cv2.imshow('cam0',x)\n",
    "        #the window will close if 'q' is pressed \n",
    "        if cv2.waitKey(1) & 0xFF==ord('q'):\n",
    "            break\n",
    "else:\n",
    "    print('Camera is not working')\n",
    "\n",
    "cam.release()\n",
    "cv2.destroyAllWindows()"
   ]
  }
 ],
 "metadata": {
  "kernelspec": {
   "display_name": "Python 3",
   "language": "python",
   "name": "python3"
  },
  "language_info": {
   "codemirror_mode": {
    "name": "ipython",
    "version": 2
   },
   "file_extension": ".py",
   "mimetype": "text/x-python",
   "name": "python",
   "nbconvert_exporter": "python",
   "pygments_lexer": "ipython2",
   "version": "2.7.12"
  }
 },
 "nbformat": 4,
 "nbformat_minor": 2
}
