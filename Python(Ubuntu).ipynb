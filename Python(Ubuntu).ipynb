{
 "cells": [
  {
   "cell_type": "code",
   "execution_count": 35,
   "metadata": {},
   "outputs": [
    {
     "name": "stdout",
     "output_type": "stream",
     "text": [
      "Press:\n",
      "1 to see current time\n",
      "\n",
      "2 to reboot the OS\n",
      "\n",
      "3 to create a user in your current OS\n",
      "\n",
      "4 to search something on google\n",
      "\n",
      "5 to print all the URL of the first page of the search result\n",
      "\n",
      "6 to check RAM and CPU information\n",
      "\n",
      "7 to login to your facebook account and update a status hello world\n",
      "\n",
      "8 to scan all the ip addresses of your current network\n",
      "Enter a number according to the  following operation needed:6\n",
      "17.9\n",
      "svmem(total=8250540032, available=6311673856, percent=23.5, used=1465176064, free=5595140096, active=1803325440, inactive=638582784, buffers=76533760, cached=1113690112, shared=204169216, slab=115523584)\n"
     ]
    }
   ],
   "source": [
    "import numpy as np\n",
    "import pandas as pd\n",
    "\n",
    "print('Press:')\n",
    "print('1 to see current time\\n')\n",
    "print('2 to reboot the OS\\n')\n",
    "print('3 to create a user in your current OS\\n')\n",
    "print('4 to search something on google\\n')\n",
    "print('5 to print all the URL of the first page of the search result\\n')\n",
    "print('6 to check RAM and CPU information\\n')\n",
    "print('7 to login to your facebook account and update a status hello world\\n')\n",
    "print('8 to scan all the ip addresses of your current network')\n",
    "\n",
    "a=int(input('Enter a number according to the  following operation needed:'))\n",
    "\n",
    "if a==1:\n",
    "    import time\n",
    "    print('The time is:',time.ctime().split()[3])\n",
    "if a==2:\n",
    "    import os\n",
    "    b=input('Are you sure you wanna restart? yes(1) or no(0)')\n",
    "    if b==0:\n",
    "        exit()\n",
    "    if b==1:\n",
    "        os.system('reboot')\n",
    "#if a==3:\n",
    "    \n",
    "if a==4:\n",
    "    import webbrowser\n",
    "    b=raw_input('Enter what you want to search')\n",
    "    webbrowser.open_new_tab('https://www.google.com/search?q='+b)\n",
    "if a==5:\n",
    "    import webbrowser\n",
    "    b=raw_input('Enter what you want to search')\n",
    "    import requests\n",
    "    from bs4 import BeautifulSoup as bs\n",
    "    page = requests.get(\"https://www.google.dz/search?q=\"+b)\n",
    "    soup = bs(page.content)\n",
    "    import re\n",
    "    links = soup.findAll(\"a\")\n",
    "    for link in  soup.find_all(\"a\",href=re.compile(\"(?<=/url\\?q=)(htt.*://.*)\")):\n",
    "        print(re.split(\":(?=http)\",link[\"href\"].replace(\"/url?q=\",\"\")))\n",
    "if a==6:\n",
    "    import psutil\n",
    "    print(psutil.cpu_percent())\n",
    "    print(psutil.virtual_memory())\n",
    "    \n",
    "     \n",
    "    "
   ]
  }
 ],
 "metadata": {
  "kernelspec": {
   "display_name": "Python 3",
   "language": "python",
   "name": "python3"
  },
  "language_info": {
   "codemirror_mode": {
    "name": "ipython",
    "version": 2
   },
   "file_extension": ".py",
   "mimetype": "text/x-python",
   "name": "python",
   "nbconvert_exporter": "python",
   "pygments_lexer": "ipython2",
   "version": "2.7.12"
  }
 },
 "nbformat": 4,
 "nbformat_minor": 2
}
